{
 "cells": [
  {
   "cell_type": "markdown",
   "metadata": {},
   "source": [
    "### Importação dos dados e Primeiros Tratamentos\n",
    "\n",
    "- O objetivo deste script é selecionar o dataset final que será usado na construção dos modelos de Machine Learning"
   ]
  },
  {
   "cell_type": "code",
   "execution_count": 27,
   "metadata": {},
   "outputs": [],
   "source": [
    "# Biliotecas\n",
    "import pandas as pd\n",
    "import numpy as np"
   ]
  },
  {
   "cell_type": "code",
   "execution_count": 28,
   "metadata": {},
   "outputs": [],
   "source": [
    "# Leitura do Dataset coletado no site do INPE\n",
    "dados_bruto = pd.read_csv('MICRODADOS_ENEM_2021.csv',sep=';',encoding='latin-1')"
   ]
  },
  {
   "cell_type": "code",
   "execution_count": 29,
   "metadata": {},
   "outputs": [
    {
     "data": {
      "text/plain": [
       "(3389832, 76)"
      ]
     },
     "execution_count": 29,
     "metadata": {},
     "output_type": "execute_result"
    }
   ],
   "source": [
    "#Estruturado do banco\n",
    "dados_bruto.shape"
   ]
  },
  {
   "cell_type": "code",
   "execution_count": 30,
   "metadata": {},
   "outputs": [
    {
     "data": {
      "text/plain": [
       "Index(['NU_INSCRICAO', 'NU_ANO', 'TP_FAIXA_ETARIA', 'TP_SEXO',\n",
       "       'TP_ESTADO_CIVIL', 'TP_COR_RACA', 'TP_NACIONALIDADE', 'TP_ST_CONCLUSAO',\n",
       "       'TP_ANO_CONCLUIU', 'TP_ESCOLA', 'TP_ENSINO', 'IN_TREINEIRO',\n",
       "       'CO_MUNICIPIO_ESC', 'NO_MUNICIPIO_ESC', 'CO_UF_ESC', 'SG_UF_ESC',\n",
       "       'TP_DEPENDENCIA_ADM_ESC', 'TP_LOCALIZACAO_ESC', 'TP_SIT_FUNC_ESC',\n",
       "       'CO_MUNICIPIO_PROVA', 'NO_MUNICIPIO_PROVA', 'CO_UF_PROVA',\n",
       "       'SG_UF_PROVA', 'TP_PRESENCA_CN', 'TP_PRESENCA_CH', 'TP_PRESENCA_LC',\n",
       "       'TP_PRESENCA_MT', 'CO_PROVA_CN', 'CO_PROVA_CH', 'CO_PROVA_LC',\n",
       "       'CO_PROVA_MT', 'NU_NOTA_CN', 'NU_NOTA_CH', 'NU_NOTA_LC', 'NU_NOTA_MT',\n",
       "       'TX_RESPOSTAS_CN', 'TX_RESPOSTAS_CH', 'TX_RESPOSTAS_LC',\n",
       "       'TX_RESPOSTAS_MT', 'TP_LINGUA', 'TX_GABARITO_CN', 'TX_GABARITO_CH',\n",
       "       'TX_GABARITO_LC', 'TX_GABARITO_MT', 'TP_STATUS_REDACAO',\n",
       "       'NU_NOTA_COMP1', 'NU_NOTA_COMP2', 'NU_NOTA_COMP3', 'NU_NOTA_COMP4',\n",
       "       'NU_NOTA_COMP5', 'NU_NOTA_REDACAO', 'Q001', 'Q002', 'Q003', 'Q004',\n",
       "       'Q005', 'Q006', 'Q007', 'Q008', 'Q009', 'Q010', 'Q011', 'Q012', 'Q013',\n",
       "       'Q014', 'Q015', 'Q016', 'Q017', 'Q018', 'Q019', 'Q020', 'Q021', 'Q022',\n",
       "       'Q023', 'Q024', 'Q025'],\n",
       "      dtype='object')"
      ]
     },
     "execution_count": 30,
     "metadata": {},
     "output_type": "execute_result"
    }
   ],
   "source": [
    "# Features Disponíveis\n",
    "dados_bruto.columns"
   ]
  },
  {
   "cell_type": "code",
   "execution_count": 31,
   "metadata": {},
   "outputs": [
    {
     "data": {
      "text/html": [
       "<div>\n",
       "<style scoped>\n",
       "    .dataframe tbody tr th:only-of-type {\n",
       "        vertical-align: middle;\n",
       "    }\n",
       "\n",
       "    .dataframe tbody tr th {\n",
       "        vertical-align: top;\n",
       "    }\n",
       "\n",
       "    .dataframe thead th {\n",
       "        text-align: right;\n",
       "    }\n",
       "</style>\n",
       "<table border=\"1\" class=\"dataframe\">\n",
       "  <thead>\n",
       "    <tr style=\"text-align: right;\">\n",
       "      <th></th>\n",
       "      <th>NU_INSCRICAO</th>\n",
       "      <th>NU_ANO</th>\n",
       "      <th>TP_FAIXA_ETARIA</th>\n",
       "      <th>TP_SEXO</th>\n",
       "      <th>TP_ESTADO_CIVIL</th>\n",
       "      <th>TP_COR_RACA</th>\n",
       "      <th>TP_NACIONALIDADE</th>\n",
       "      <th>TP_ST_CONCLUSAO</th>\n",
       "      <th>TP_ANO_CONCLUIU</th>\n",
       "      <th>TP_ESCOLA</th>\n",
       "      <th>...</th>\n",
       "      <th>Q016</th>\n",
       "      <th>Q017</th>\n",
       "      <th>Q018</th>\n",
       "      <th>Q019</th>\n",
       "      <th>Q020</th>\n",
       "      <th>Q021</th>\n",
       "      <th>Q022</th>\n",
       "      <th>Q023</th>\n",
       "      <th>Q024</th>\n",
       "      <th>Q025</th>\n",
       "    </tr>\n",
       "  </thead>\n",
       "  <tbody>\n",
       "    <tr>\n",
       "      <th>0</th>\n",
       "      <td>210053865474</td>\n",
       "      <td>2021</td>\n",
       "      <td>5</td>\n",
       "      <td>F</td>\n",
       "      <td>1</td>\n",
       "      <td>1</td>\n",
       "      <td>1</td>\n",
       "      <td>1</td>\n",
       "      <td>3</td>\n",
       "      <td>1</td>\n",
       "      <td>...</td>\n",
       "      <td>A</td>\n",
       "      <td>A</td>\n",
       "      <td>A</td>\n",
       "      <td>B</td>\n",
       "      <td>A</td>\n",
       "      <td>A</td>\n",
       "      <td>B</td>\n",
       "      <td>A</td>\n",
       "      <td>B</td>\n",
       "      <td>B</td>\n",
       "    </tr>\n",
       "    <tr>\n",
       "      <th>1</th>\n",
       "      <td>210052384164</td>\n",
       "      <td>2021</td>\n",
       "      <td>12</td>\n",
       "      <td>M</td>\n",
       "      <td>1</td>\n",
       "      <td>1</td>\n",
       "      <td>1</td>\n",
       "      <td>1</td>\n",
       "      <td>11</td>\n",
       "      <td>1</td>\n",
       "      <td>...</td>\n",
       "      <td>A</td>\n",
       "      <td>A</td>\n",
       "      <td>A</td>\n",
       "      <td>B</td>\n",
       "      <td>A</td>\n",
       "      <td>A</td>\n",
       "      <td>C</td>\n",
       "      <td>A</td>\n",
       "      <td>A</td>\n",
       "      <td>A</td>\n",
       "    </tr>\n",
       "    <tr>\n",
       "      <th>2</th>\n",
       "      <td>210052589243</td>\n",
       "      <td>2021</td>\n",
       "      <td>13</td>\n",
       "      <td>F</td>\n",
       "      <td>3</td>\n",
       "      <td>1</td>\n",
       "      <td>1</td>\n",
       "      <td>1</td>\n",
       "      <td>15</td>\n",
       "      <td>1</td>\n",
       "      <td>...</td>\n",
       "      <td>B</td>\n",
       "      <td>A</td>\n",
       "      <td>A</td>\n",
       "      <td>B</td>\n",
       "      <td>A</td>\n",
       "      <td>A</td>\n",
       "      <td>C</td>\n",
       "      <td>B</td>\n",
       "      <td>B</td>\n",
       "      <td>B</td>\n",
       "    </tr>\n",
       "    <tr>\n",
       "      <th>3</th>\n",
       "      <td>210052128335</td>\n",
       "      <td>2021</td>\n",
       "      <td>3</td>\n",
       "      <td>M</td>\n",
       "      <td>1</td>\n",
       "      <td>3</td>\n",
       "      <td>1</td>\n",
       "      <td>2</td>\n",
       "      <td>0</td>\n",
       "      <td>2</td>\n",
       "      <td>...</td>\n",
       "      <td>A</td>\n",
       "      <td>A</td>\n",
       "      <td>A</td>\n",
       "      <td>B</td>\n",
       "      <td>A</td>\n",
       "      <td>A</td>\n",
       "      <td>B</td>\n",
       "      <td>A</td>\n",
       "      <td>B</td>\n",
       "      <td>B</td>\n",
       "    </tr>\n",
       "    <tr>\n",
       "      <th>4</th>\n",
       "      <td>210051353021</td>\n",
       "      <td>2021</td>\n",
       "      <td>2</td>\n",
       "      <td>F</td>\n",
       "      <td>1</td>\n",
       "      <td>3</td>\n",
       "      <td>1</td>\n",
       "      <td>2</td>\n",
       "      <td>0</td>\n",
       "      <td>2</td>\n",
       "      <td>...</td>\n",
       "      <td>B</td>\n",
       "      <td>A</td>\n",
       "      <td>A</td>\n",
       "      <td>B</td>\n",
       "      <td>A</td>\n",
       "      <td>B</td>\n",
       "      <td>E</td>\n",
       "      <td>A</td>\n",
       "      <td>B</td>\n",
       "      <td>B</td>\n",
       "    </tr>\n",
       "  </tbody>\n",
       "</table>\n",
       "<p>5 rows × 76 columns</p>\n",
       "</div>"
      ],
      "text/plain": [
       "   NU_INSCRICAO  NU_ANO  TP_FAIXA_ETARIA TP_SEXO  TP_ESTADO_CIVIL  \\\n",
       "0  210053865474    2021                5       F                1   \n",
       "1  210052384164    2021               12       M                1   \n",
       "2  210052589243    2021               13       F                3   \n",
       "3  210052128335    2021                3       M                1   \n",
       "4  210051353021    2021                2       F                1   \n",
       "\n",
       "   TP_COR_RACA  TP_NACIONALIDADE  TP_ST_CONCLUSAO  TP_ANO_CONCLUIU  TP_ESCOLA  \\\n",
       "0            1                 1                1                3          1   \n",
       "1            1                 1                1               11          1   \n",
       "2            1                 1                1               15          1   \n",
       "3            3                 1                2                0          2   \n",
       "4            3                 1                2                0          2   \n",
       "\n",
       "   ...  Q016  Q017  Q018 Q019  Q020 Q021  Q022  Q023  Q024  Q025  \n",
       "0  ...     A     A     A    B     A    A     B     A     B     B  \n",
       "1  ...     A     A     A    B     A    A     C     A     A     A  \n",
       "2  ...     B     A     A    B     A    A     C     B     B     B  \n",
       "3  ...     A     A     A    B     A    A     B     A     B     B  \n",
       "4  ...     B     A     A    B     A    B     E     A     B     B  \n",
       "\n",
       "[5 rows x 76 columns]"
      ]
     },
     "execution_count": 31,
     "metadata": {},
     "output_type": "execute_result"
    }
   ],
   "source": [
    "dados_bruto.head()"
   ]
  },
  {
   "cell_type": "markdown",
   "metadata": {},
   "source": [
    "Iremos remover algumas colunas que não fazem sentido para nossa análise, como por exemplo o ano (o dataset já é sobre o enem 2021) e colunas sobre tipo de prova e etc."
   ]
  },
  {
   "cell_type": "code",
   "execution_count": 32,
   "metadata": {},
   "outputs": [],
   "source": [
    "colunas_selecionadas = ['NU_INSCRICAO', 'TP_FAIXA_ETARIA', 'TP_SEXO',\n",
    "       'TP_ESTADO_CIVIL', 'TP_COR_RACA', 'TP_NACIONALIDADE', \n",
    "       'TP_ESCOLA', 'TP_ENSINO', 'IN_TREINEIRO', 'NO_MUNICIPIO_ESC', 'SG_UF_ESC',\n",
    "       'TP_PRESENCA_CN', 'TP_PRESENCA_CH', 'TP_PRESENCA_LC',\n",
    "       'TP_PRESENCA_MT', 'NU_NOTA_CN', 'NU_NOTA_CH', 'NU_NOTA_LC', 'NU_NOTA_MT',\n",
    "       'TP_LINGUA', 'NU_NOTA_COMP1', 'NU_NOTA_COMP2', 'NU_NOTA_COMP3', 'NU_NOTA_COMP4',\n",
    "       'NU_NOTA_COMP5', 'NU_NOTA_REDACAO', 'Q001', 'Q002',\n",
    "       'Q005', 'Q006', 'Q025']\n",
    "\n",
    "dados_bruto = dados_bruto[colunas_selecionadas]"
   ]
  },
  {
   "cell_type": "markdown",
   "metadata": {},
   "source": [
    "### Aplicando filtros ao dataset\n",
    "Qual conjunto de candidatos queremos?\n",
    "\n",
    "Residentes no Estado de São Paulo, que não sejam classificados como treineiros e que foram considerados presentes em todas as provas"
   ]
  },
  {
   "cell_type": "code",
   "execution_count": 33,
   "metadata": {},
   "outputs": [],
   "source": [
    "# Filtragem\n",
    "dados_bruto = dados_bruto.query('SG_UF_ESC == \"SP\" and IN_TREINEIRO == 0 and TP_PRESENCA_CN == 1 and TP_PRESENCA_CH == 1\\\n",
    "and TP_PRESENCA_LC == 1 and TP_PRESENCA_MT == 1')"
   ]
  },
  {
   "cell_type": "code",
   "execution_count": 34,
   "metadata": {},
   "outputs": [],
   "source": [
    "# Renomenado algumas colunas\n",
    "dados_bruto.rename(columns={\n",
    "    'TP_SEXO' : 'SEXO',\n",
    "    'TP_FAIXA_ETARIA' : 'FAIXA_ETARIA',\n",
    "    'TP_ESTADO_CIVIL' : 'ESTADO_CIVIL',\n",
    "    'TP_COR_RACA' : 'COR_RACA',\n",
    "    'TP_NACIONALIDADE' : 'NACIONALIDADE',\n",
    "    'TP_ESCOLA' : 'TIPO_ESCOLA',\n",
    "    'NU_NOTA_CN': 'NOTA_CN',\n",
    "    'NU_NOTA_CH' : 'NOTA_CH' ,\n",
    "    'NU_NOTA_LC' : 'NOTA_LC',\n",
    "    'NU_NOTA_MT' : 'NOTA_MT',\n",
    "    'NU_NOTA_COMP1' : 'NOTA_COMP1',\n",
    "     'NU_NOTA_COMP2' : 'NOTA_COMP2',\n",
    "     'NU_NOTA_COMP3' :'NOTA_COMP3',\n",
    "     'NU_NOTA_COMP4' : 'NOTA_COMP4',\n",
    "     'NU_NOTA_COMP5' : 'NOTA_COMP5',\n",
    "     'NU_NOTA_REDACAO' : 'NOTA_REDACAO',\n",
    "     'Q001' : 'ESCOLARIDADE_PAI',\n",
    "     'Q002' : 'ESCOLARIDADE_MAE',\n",
    "     'Q005' : 'QTDE_RESIDENTES_CASA',\n",
    "     'Q006' : 'FAIXA_RENDA_FAMILIAR',\n",
    "     'Q025' : 'ACESSO_INTERNET'\n",
    "},inplace=True)"
   ]
  },
  {
   "cell_type": "markdown",
   "metadata": {},
   "source": [
    "Agora iremos exluir as colunas que indica candidatos treineiros e do Estado, além daquelas colunas que especificam se alunos foram considerados presentes em todas as provas do enem, pois já aplicamos os filtros desejados."
   ]
  },
  {
   "cell_type": "code",
   "execution_count": 35,
   "metadata": {},
   "outputs": [],
   "source": [
    "dados_bruto.drop(['IN_TREINEIRO','SG_UF_ESC','TP_PRESENCA_CN', 'TP_PRESENCA_CH',\n",
    "       'TP_PRESENCA_LC', 'TP_PRESENCA_MT'], axis=1,inplace=True)"
   ]
  },
  {
   "cell_type": "code",
   "execution_count": 36,
   "metadata": {},
   "outputs": [
    {
     "data": {
      "text/plain": [
       "Index(['NU_INSCRICAO', 'FAIXA_ETARIA', 'SEXO', 'ESTADO_CIVIL', 'COR_RACA',\n",
       "       'NACIONALIDADE', 'TIPO_ESCOLA', 'TP_ENSINO', 'NO_MUNICIPIO_ESC',\n",
       "       'NOTA_CN', 'NOTA_CH', 'NOTA_LC', 'NOTA_MT', 'TP_LINGUA', 'NOTA_COMP1',\n",
       "       'NOTA_COMP2', 'NOTA_COMP3', 'NOTA_COMP4', 'NOTA_COMP5', 'NOTA_REDACAO',\n",
       "       'ESCOLARIDADE_PAI', 'ESCOLARIDADE_MAE', 'QTDE_RESIDENTES_CASA',\n",
       "       'FAIXA_RENDA_FAMILIAR', 'ACESSO_INTERNET'],\n",
       "      dtype='object')"
      ]
     },
     "execution_count": 36,
     "metadata": {},
     "output_type": "execute_result"
    }
   ],
   "source": [
    "# Features Restantes\n",
    "dados_bruto.columns"
   ]
  },
  {
   "cell_type": "code",
   "execution_count": 37,
   "metadata": {},
   "outputs": [],
   "source": [
    "# Exportando os dados para novo csv\n",
    "dados_bruto.to_csv('enem2021.csv', sep=';')"
   ]
  }
 ],
 "metadata": {
  "kernelspec": {
   "display_name": "Python 3.10.8 64-bit (microsoft store)",
   "language": "python",
   "name": "python3"
  },
  "language_info": {
   "codemirror_mode": {
    "name": "ipython",
    "version": 3
   },
   "file_extension": ".py",
   "mimetype": "text/x-python",
   "name": "python",
   "nbconvert_exporter": "python",
   "pygments_lexer": "ipython3",
   "version": "3.10.8"
  },
  "orig_nbformat": 4,
  "vscode": {
   "interpreter": {
    "hash": "24c247fb8a096620e482ed040efe31f843bd05f14c52327ea9785b2ad5d0502e"
   }
  }
 },
 "nbformat": 4,
 "nbformat_minor": 2
}
